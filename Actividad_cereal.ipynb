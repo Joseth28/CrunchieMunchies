{
  "nbformat": 4,
  "nbformat_minor": 0,
  "metadata": {
    "colab": {
      "provenance": [],
      "collapsed_sections": [
        "doq4bQxjMTur"
      ],
      "authorship_tag": "ABX9TyNTNpYMhRNCORwYRCbcfdQg",
      "include_colab_link": true
    },
    "kernelspec": {
      "name": "python3",
      "display_name": "Python 3"
    },
    "language_info": {
      "name": "python"
    }
  },
  "cells": [
    {
      "cell_type": "markdown",
      "metadata": {
        "id": "view-in-github",
        "colab_type": "text"
      },
      "source": [
        "<a href=\"https://colab.research.google.com/github/Joseth28/CrunchieMunchies/blob/main/Actividad_cereal.ipynb\" target=\"_parent\"><img src=\"https://colab.research.google.com/assets/colab-badge.svg\" alt=\"Open In Colab\"/></a>"
      ]
    },
    {
      "cell_type": "markdown",
      "source": [
        "##presentado por: Joseth rodriguez cardales(joseth.rodriguez@upb.edu.co)"
      ],
      "metadata": {
        "id": "l6gcBFolOiXK"
      }
    },
    {
      "cell_type": "code",
      "source": [
        "import numpy as np\n",
        "\n",
        "calorie_stats = np.genfromtxt('https://docs.google.com/spreadsheets/d/e/2PACX-1vR9TPfSyINHLPxCPjE-TZJs2oVoJFKYtBqnhDkQ7UKaicB7XtTD4jg3cAvypOs_eTT4iWt6v2zKOyne/pub?gid=32330190&single=true&output=csv', delimiter =\",\")\n",
        "\n",
        "average_calories = np.mean(calorie_stats)\n",
        "print(\"El promedio de calorías de la competencia es:\", (average_calories - 60))\n",
        "print(\"El promedio de calorías de la competencia es:\", average_calories)\n",
        "\n",
        "calorie_stats = np.sort(calorie_stats)\n",
        "print(\"Datos organizados:\", calorie_stats)\n",
        "median_calories = np.median(calorie_stats)\n",
        "print(\"La mediana de calorías de la competencia es:\", median_calories)\n",
        "\n",
        "std_calories = np.std(calorie_stats)\n",
        "print(\"La desviación estándar de calorías de la competencia es:\", std_calories)\n",
        "\n",
        "i = 0\n",
        "nth_percentile = 0\n",
        "while nth_percentile < 60:\n",
        "  nth_percentile = np.percentile(calorie_stats, i)\n",
        "  i += 1\n",
        "\n",
        "more_calories = (len(calorie_stats[calorie_stats > 60])) / len(calorie_stats) * 100\n",
        "\n",
        "calorie_std = np.std(calorie_stats)\n",
        "print(\"El perceptil requerido es: \",i-1,\",\",nth_percentile,\"calorias\")\n",
        "print()\n",
        "print(\"El porcentaje de cereales con mas de 60 calorias: \",more_calories,\"%\")\n",
        "print()\n",
        "print(\"La desviacion estandar es: \",calorie_std)"
      ],
      "metadata": {
        "colab": {
          "base_uri": "https://localhost:8080/"
        },
        "id": "nK1Zm0B8MYWT",
        "outputId": "25a91bb1-00f7-4c7b-dfa5-5b2554cb1ebc"
      },
      "execution_count": 9,
      "outputs": [
        {
          "output_type": "stream",
          "name": "stdout",
          "text": [
            "El promedio de calorías de la competencia es: 46.883116883116884\n",
            "El promedio de calorías de la competencia es: 106.88311688311688\n",
            "Datos organizados: [ 50.  50.  50.  70.  70.  80.  90.  90.  90.  90.  90.  90.  90. 100.\n",
            " 100. 100. 100. 100. 100. 100. 100. 100. 100. 100. 100. 100. 100. 100.\n",
            " 100. 100. 110. 110. 110. 110. 110. 110. 110. 110. 110. 110. 110. 110.\n",
            " 110. 110. 110. 110. 110. 110. 110. 110. 110. 110. 110. 110. 110. 110.\n",
            " 110. 110. 110. 120. 120. 120. 120. 120. 120. 120. 120. 120. 120. 130.\n",
            " 130. 140. 140. 140. 150. 150. 160.]\n",
            "La mediana de calorías de la competencia es: 110.0\n",
            "La desviación estándar de calorías de la competencia es: 19.35718533390827\n",
            "El perceptil requerido es:  4 , 70.0 calorias\n",
            "\n",
            "El porcentaje de cereales con mas de 60 calorias:  96.1038961038961 %\n",
            "\n",
            "La desviacion estandar es:  19.35718533390827\n"
          ]
        }
      ]
    },
    {
      "cell_type": "markdown",
      "source": [
        "##version mas avanzada"
      ],
      "metadata": {
        "id": "doq4bQxjMTur"
      }
    },
    {
      "cell_type": "code",
      "execution_count": 11,
      "metadata": {
        "id": "smtriDXeXET7",
        "colab": {
          "base_uri": "https://localhost:8080/"
        },
        "outputId": "36c62bba-8fa7-4994-e290-67b1575f6263"
      },
      "outputs": [
        {
          "output_type": "stream",
          "name": "stdout",
          "text": [
            "El promedio de calorías de la competencia es: 106.88311688311688\n",
            "La mediana de las calorías de la competencia es: 110.0\n",
            "El 4 ° percentil es mayor a 60 calorías: 70.0\n",
            "El porcentaje de cereales que tienen más de 60 calorías por porción es: 96.1038961038961 %\n",
            "La desviación estándar de las calorías es: 19.35718533390827\n",
            "Resumen de los cinco números:\n",
            "Mínimo: 50.0\n",
            "Primer cuartil: 100.0\n",
            "Mediana: 110.0\n",
            "Tercer cuartil: 110.0\n",
            "Máximo: 160.0\n",
            "Promedio de las ventas: 106.88311688311688\n",
            "Desviación estándar de las ventas: 19.35718533390827\n",
            "Los datos se han guardado exitosamente en 'sales_summary.csv'.\n"
          ]
        }
      ],
      "source": [
        "import numpy as np\n",
        "import csv\n",
        "import requests\n",
        "from io import StringIO\n",
        "\n",
        "# Paso 1: Descargar el archivo cereal.csv desde la URL proporcionada\n",
        "url_cereal = 'https://docs.google.com/spreadsheets/d/e/2PACX-1vR9TPfSyINHLPxCPjE-TZJs2oVoJFKYtBqnhDkQ7UKaicB7XtTD4jg3cAvypOs_eTT4iWt6v2zKOyne/pub?gid=32330190&single=true&output=csv'\n",
        "response = requests.get(url_cereal)\n",
        "datos_cereal = np.genfromtxt(StringIO(response.text), delimiter=',')\n",
        "\n",
        "# Paso 2: Calcular el promedio de calorías de la competencia\n",
        "average_calories = np.mean(datos_cereal)\n",
        "print(\"El promedio de calorías de la competencia es:\", average_calories)\n",
        "\n",
        "# Paso 3: Organizar los datos, calcular la mediana y encontrar el primer percentil mayor a 60\n",
        "datos_cereal_sorted = np.sort(datos_cereal)\n",
        "median_calories = np.median(datos_cereal_sorted)\n",
        "print(\"La mediana de las calorías de la competencia es:\", median_calories)\n",
        "\n",
        "for i in range(1, 101):\n",
        "    percentile_value = np.percentile(datos_cereal_sorted, i)\n",
        "    if percentile_value > 60:\n",
        "        nth_percentile = i\n",
        "        print(\"El\", nth_percentile, \"° percentil es mayor a 60 calorías:\", percentile_value)\n",
        "        break\n",
        "\n",
        "# Paso 4: Calcular el porcentaje de cereales con más de 60 calorías y la desviación estándar\n",
        "more_calories = np.sum(datos_cereal > 60) / len(datos_cereal) * 100\n",
        "calorie_std = np.std(datos_cereal)\n",
        "print(\"El porcentaje de cereales que tienen más de 60 calorías por porción es:\", more_calories, \"%\")\n",
        "print(\"La desviación estándar de las calorías es:\", calorie_std)\n",
        "\n",
        "# Paso 5: Resumen de los cinco números, promedio y desviación estándar de las ventas\n",
        "# Suponiendo que tienes los datos de ventas ya agregados y guardados en un arreglo NumPy llamado sales_data\n",
        "# Sales_data debería contener los datos de ventas del restaurante Michelangelos\n",
        "\n",
        "# Descargar los datos de ventas desde la URL proporcionada\n",
        "url_ventas = 'https://docs.google.com/spreadsheets/d/e/2PACX-1vR9TPfSyINHLPxCPjE-TZJs2oVoJFKYtBqnhDkQ7UKaicB7XtTD4jg3cAvypOs_eTT4iWt6v2zKOyne/pub?gid=32330190&single=true&output=csv'\n",
        "response_ventas = requests.get(url_ventas)\n",
        "sales_data = np.genfromtxt(StringIO(response_ventas.text), delimiter=',')\n",
        "\n",
        "# Calcular el resumen de los cinco números\n",
        "five_num_summary = np.percentile(sales_data, [0, 25, 50, 75, 100])\n",
        "\n",
        "# Calcular el promedio y la desviación estándar\n",
        "average_sales = np.mean(sales_data)\n",
        "std_dev_sales = np.std(sales_data)\n",
        "\n",
        "# Imprimir los resultados\n",
        "print(\"Resumen de los cinco números:\")\n",
        "print(\"Mínimo:\", five_num_summary[0])\n",
        "print(\"Primer cuartil:\", five_num_summary[1])\n",
        "print(\"Mediana:\", five_num_summary[2])\n",
        "print(\"Tercer cuartil:\", five_num_summary[3])\n",
        "print(\"Máximo:\", five_num_summary[4])\n",
        "print(\"Promedio de las ventas:\", average_sales)\n",
        "print(\"Desviación estándar de las ventas:\", std_dev_sales)\n",
        "\n",
        "# Guardar los datos de las ventas en un archivo CSV\n",
        "with open('sales_summary.csv', 'w', newline='') as csvfile:\n",
        "    writer = csv.writer(csvfile)\n",
        "    writer.writerow(['Mínimo', 'Primer cuartil', 'Mediana', 'Tercer cuartil', 'Máximo', 'Promedio', 'Desviación estándar'])\n",
        "    writer.writerow(five_num_summary.tolist() + [average_sales, std_dev_sales])\n",
        "\n",
        "print(\"Los datos se han guardado exitosamente en 'sales_summary.csv'.\")\n"
      ]
    }
  ]
}